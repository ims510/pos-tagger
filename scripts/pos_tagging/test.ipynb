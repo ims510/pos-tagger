{
 "cells": [
  {
   "cell_type": "code",
   "execution_count": 4,
   "metadata": {},
   "outputs": [
    {
     "ename": "AttributeError",
     "evalue": "'Ligne' object has no attribute 'text'",
     "output_type": "error",
     "traceback": [
      "\u001b[0;31m---------------------------------------------------------------------------\u001b[0m",
      "\u001b[0;31mAttributeError\u001b[0m                            Traceback (most recent call last)",
      "Cell \u001b[0;32mIn[4], line 20\u001b[0m\n\u001b[1;32m     15\u001b[0m         \u001b[38;5;28;01mreturn\u001b[39;00m liste_lignes\n\u001b[1;32m     17\u001b[0m         \u001b[38;5;66;03m# next(reader)\u001b[39;00m\n\u001b[1;32m     18\u001b[0m         \u001b[38;5;66;03m# lignes = [Ligne(row[0], [Token(row[i], row[i+1], row[i+2]) for i in range(1, len(row)-1, 3)], row[-1]) for row in reader]\u001b[39;00m\n\u001b[0;32m---> 20\u001b[0m liste_lignes \u001b[38;5;241m=\u001b[39m \u001b[43mouverture_csv\u001b[49m\u001b[43m(\u001b[49m\u001b[38;5;124;43m\"\u001b[39;49m\u001b[38;5;124;43m/Users/madalina/Documents/M1TAL/Enrichissement de corpus/Docs/csv_planification.csv\u001b[39;49m\u001b[38;5;124;43m\"\u001b[39;49m\u001b[43m)\u001b[49m\n",
      "Cell \u001b[0;32mIn[4], line 13\u001b[0m, in \u001b[0;36mouverture_csv\u001b[0;34m(file)\u001b[0m\n\u001b[1;32m     11\u001b[0m \u001b[38;5;28;01mfor\u001b[39;00m row \u001b[38;5;129;01min\u001b[39;00m reader:\n\u001b[1;32m     12\u001b[0m     line \u001b[38;5;241m=\u001b[39m Ligne(texte\u001b[38;5;241m=\u001b[39mrow[\u001b[38;5;241m16\u001b[39m], tokens\u001b[38;5;241m=\u001b[39m[], categorie\u001b[38;5;241m=\u001b[39mrow[\u001b[38;5;241m15\u001b[39m])\n\u001b[0;32m---> 13\u001b[0m     line\u001b[38;5;241m.\u001b[39mtexte \u001b[38;5;241m=\u001b[39m \u001b[43mline\u001b[49m\u001b[38;5;241;43m.\u001b[39;49m\u001b[43mtext\u001b[49m\u001b[38;5;241m.\u001b[39mreplace(\u001b[38;5;124m\"\u001b[39m\u001b[38;5;124m␣\u001b[39m\u001b[38;5;124m\"\u001b[39m, \u001b[38;5;124m\"\u001b[39m\u001b[38;5;124m \u001b[39m\u001b[38;5;124m\"\u001b[39m)\n\u001b[1;32m     14\u001b[0m     liste_lignes\u001b[38;5;241m.\u001b[39mappend(line)\n\u001b[1;32m     15\u001b[0m \u001b[38;5;28;01mreturn\u001b[39;00m liste_lignes\n",
      "\u001b[0;31mAttributeError\u001b[0m: 'Ligne' object has no attribute 'text'"
     ]
    }
   ],
   "source": [
    "from datastructure import Ligne, Token\n",
    "import csv\n",
    "from typing import List\n",
    "\n",
    "\n",
    "def ouverture_csv(file : str) -> List[Ligne]:\n",
    "    \"\"\"Ouvre un fichier csv et retourne une liste de lignes.\"\"\"\n",
    "    with open (file, 'r', encoding='utf-8') as f:\n",
    "        reader = csv.reader(f, delimiter='\\t') ## le delimiter de notre csv c'est des tabs\n",
    "        liste_lignes = []\n",
    "        for row in reader:\n",
    "            line = Ligne(texte=row[16], tokens=[], categorie=row[15])\n",
    "            line.texte = line.texte.replace(\"␣\", \" \")\n",
    "            liste_lignes.append(line)\n",
    "        return liste_lignes\n",
    "\n",
    "        # next(reader)\n",
    "        # lignes = [Ligne(row[0], [Token(row[i], row[i+1], row[i+2]) for i in range(1, len(row)-1, 3)], row[-1]) for row in reader]\n",
    "    \n",
    "liste_lignes = ouverture_csv(\"/Users/madalina/Documents/M1TAL/Enrichissement de corpus/Docs/csv_planification.csv\")"
   ]
  },
  {
   "cell_type": "code",
   "execution_count": 2,
   "metadata": {},
   "outputs": [
    {
     "name": "stdout",
     "output_type": "stream",
     "text": [
      "Collecting treetaggerwrapper\n",
      "  Downloading treetaggerwrapper-2.3.tar.gz (43 kB)\n",
      "\u001b[2K     \u001b[90m━━━━━━━━━━━━━━━━━━━━━━━━━━━━━━━━━━━━━━━\u001b[0m \u001b[32m43.8/43.8 kB\u001b[0m \u001b[31m275.0 kB/s\u001b[0m eta \u001b[36m0:00:00\u001b[0ma \u001b[36m0:00:01\u001b[0m\n",
      "\u001b[?25h  Preparing metadata (setup.py) ... \u001b[?25ldone\n",
      "\u001b[?25hBuilding wheels for collected packages: treetaggerwrapper\n",
      "  Building wheel for treetaggerwrapper (setup.py) ... \u001b[?25ldone\n",
      "\u001b[?25h  Created wheel for treetaggerwrapper: filename=treetaggerwrapper-2.3-py3-none-any.whl size=40760 sha256=21c2e73ea160d3a1ac247f27f316f418b1b75dcc6a7c341d86d6b0c98e1f096e\n",
      "  Stored in directory: /Users/madalina/Library/Caches/pip/wheels/82/46/25/e6c7f0ac70f541d78f6d5346f7382908311a7d8010e8bd30bf\n",
      "Successfully built treetaggerwrapper\n",
      "Installing collected packages: treetaggerwrapper\n",
      "Successfully installed treetaggerwrapper-2.3\n",
      "\n",
      "\u001b[1m[\u001b[0m\u001b[34;49mnotice\u001b[0m\u001b[1;39;49m]\u001b[0m\u001b[39;49m A new release of pip is available: \u001b[0m\u001b[31;49m23.3.1\u001b[0m\u001b[39;49m -> \u001b[0m\u001b[32;49m24.0\u001b[0m\n",
      "\u001b[1m[\u001b[0m\u001b[34;49mnotice\u001b[0m\u001b[1;39;49m]\u001b[0m\u001b[39;49m To update, run: \u001b[0m\u001b[32;49mpython3.11 -m pip install --upgrade pip\u001b[0m\n",
      "Note: you may need to restart the kernel to use updated packages.\n"
     ]
    }
   ],
   "source": [
    "pip install treetaggerwrapper"
   ]
  },
  {
   "cell_type": "code",
   "execution_count": null,
   "metadata": {},
   "outputs": [],
   "source": [
    "import treetaggerwrapper\n",
    "tagger = treetaggerwrapper.TreeTagger(TAGLANG='fr')\n",
    "\n",
    "def tokenisation(ligne : Ligne) -> Ligne:\n",
    "    \"\"\"Tokenise une ligne.\"\"\"\n",
    "    tags = tagger.tag_text(ligne.texte)\n",
    "    tags2 = treetaggerwrapper.make_tags(tags)\n",
    "    tokens = [Token(tag.word, tag.pos, tag.lemma) for tag in tags2]\n",
    "    return Ligne(ligne.texte, tokens, ligne.categorie)"
   ]
  }
 ],
 "metadata": {
  "kernelspec": {
   "display_name": "Python 3",
   "language": "python",
   "name": "python3"
  },
  "language_info": {
   "codemirror_mode": {
    "name": "ipython",
    "version": 3
   },
   "file_extension": ".py",
   "mimetype": "text/x-python",
   "name": "python",
   "nbconvert_exporter": "python",
   "pygments_lexer": "ipython3",
   "version": "3.11.6"
  }
 },
 "nbformat": 4,
 "nbformat_minor": 2
}
